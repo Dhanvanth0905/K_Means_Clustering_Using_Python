{
  "nbformat": 4,
  "nbformat_minor": 0,
  "metadata": {
    "colab": {
      "provenance": []
    },
    "kernelspec": {
      "name": "python3",
      "display_name": "Python 3"
    },
    "language_info": {
      "name": "python"
    }
  },
  "cells": [
    {
      "cell_type": "markdown",
      "source": [
        "# Importing Necessary Libraries"
      ],
      "metadata": {
        "id": "rASflRPbhU5M"
      }
    },
    {
      "cell_type": "code",
      "execution_count": null,
      "metadata": {
        "id": "W5PzhICvfqst"
      },
      "outputs": [],
      "source": [
        "import numpy as np                     # linear algebra\n",
        "import pandas as pd                    # for data processing and to read csv files\n",
        "import matplotlib.pyplot as plt        # for data visualization\n",
        "import seaborn as sns                  # statistical visualization\n",
        "%matplotlib inline"
      ]
    },
    {
      "cell_type": "markdown",
      "source": [
        "# Loading the dataset"
      ],
      "metadata": {
        "id": "HOut-EewhdBN"
      }
    },
    {
      "cell_type": "code",
      "source": [
        "from google.colab import drive\n",
        "drive.mount('/content/drive')"
      ],
      "metadata": {
        "colab": {
          "base_uri": "https://localhost:8080/"
        },
        "id": "Ib5AIAREk9pV",
        "outputId": "bbfc1cd8-e4a3-42f6-b78c-ae174e1a18cf"
      },
      "execution_count": null,
      "outputs": [
        {
          "output_type": "stream",
          "name": "stdout",
          "text": [
            "Drive already mounted at /content/drive; to attempt to forcibly remount, call drive.mount(\"/content/drive\", force_remount=True).\n"
          ]
        }
      ]
    },
    {
      "cell_type": "code",
      "source": [
        "df = pd.read_csv('/content/drive/My Drive/HeartDiseaseTrain-Test.csv')"
      ],
      "metadata": {
        "id": "rRWiZWvIhfZK"
      },
      "execution_count": null,
      "outputs": []
    },
    {
      "cell_type": "markdown",
      "source": [
        "# data analysis"
      ],
      "metadata": {
        "id": "dx0hsPSWizu5"
      }
    },
    {
      "cell_type": "code",
      "source": [
        "df.shape   # shape of the dataset or size of the dataset"
      ],
      "metadata": {
        "colab": {
          "base_uri": "https://localhost:8080/"
        },
        "id": "b9zwW2R8i1bc",
        "outputId": "425bc06c-215b-49f7-9560-340cf720c517"
      },
      "execution_count": null,
      "outputs": [
        {
          "output_type": "execute_result",
          "data": {
            "text/plain": [
              "(1025, 14)"
            ]
          },
          "metadata": {},
          "execution_count": 246
        }
      ]
    },
    {
      "cell_type": "code",
      "source": [
        "df.head()  # to see the contents of the dataset"
      ],
      "metadata": {
        "colab": {
          "base_uri": "https://localhost:8080/",
          "height": 357
        },
        "id": "YbWYFeMKi8y_",
        "outputId": "f70d1742-b825-490e-a2f2-60790171b4cd"
      },
      "execution_count": null,
      "outputs": [
        {
          "output_type": "execute_result",
          "data": {
            "text/plain": [
              "   age     sex chest_pain_type  resting_blood_pressure  cholestoral  \\\n",
              "0   52    Male  Typical angina                     125          212   \n",
              "1   53    Male  Typical angina                     140          203   \n",
              "2   70    Male  Typical angina                     145          174   \n",
              "3   61    Male  Typical angina                     148          203   \n",
              "4   62  Female  Typical angina                     138          294   \n",
              "\n",
              "      fasting_blood_sugar               rest_ecg  Max_heart_rate  \\\n",
              "0    Lower than 120 mg/ml  ST-T wave abnormality             168   \n",
              "1  Greater than 120 mg/ml                 Normal             155   \n",
              "2    Lower than 120 mg/ml  ST-T wave abnormality             125   \n",
              "3    Lower than 120 mg/ml  ST-T wave abnormality             161   \n",
              "4  Greater than 120 mg/ml  ST-T wave abnormality             106   \n",
              "\n",
              "  exercise_induced_angina  oldpeak        slope vessels_colored_by_flourosopy  \\\n",
              "0                      No      1.0  Downsloping                           Two   \n",
              "1                     Yes      3.1    Upsloping                          Zero   \n",
              "2                     Yes      2.6    Upsloping                          Zero   \n",
              "3                      No      0.0  Downsloping                           One   \n",
              "4                      No      1.9         Flat                         Three   \n",
              "\n",
              "         thalassemia  target  \n",
              "0  Reversable Defect       0  \n",
              "1  Reversable Defect       0  \n",
              "2  Reversable Defect       0  \n",
              "3  Reversable Defect       0  \n",
              "4       Fixed Defect       0  "
            ],
            "text/html": [
              "\n",
              "  <div id=\"df-d51f8aa0-2d67-49ce-a05f-ea01409834e0\">\n",
              "    <div class=\"colab-df-container\">\n",
              "      <div>\n",
              "<style scoped>\n",
              "    .dataframe tbody tr th:only-of-type {\n",
              "        vertical-align: middle;\n",
              "    }\n",
              "\n",
              "    .dataframe tbody tr th {\n",
              "        vertical-align: top;\n",
              "    }\n",
              "\n",
              "    .dataframe thead th {\n",
              "        text-align: right;\n",
              "    }\n",
              "</style>\n",
              "<table border=\"1\" class=\"dataframe\">\n",
              "  <thead>\n",
              "    <tr style=\"text-align: right;\">\n",
              "      <th></th>\n",
              "      <th>age</th>\n",
              "      <th>sex</th>\n",
              "      <th>chest_pain_type</th>\n",
              "      <th>resting_blood_pressure</th>\n",
              "      <th>cholestoral</th>\n",
              "      <th>fasting_blood_sugar</th>\n",
              "      <th>rest_ecg</th>\n",
              "      <th>Max_heart_rate</th>\n",
              "      <th>exercise_induced_angina</th>\n",
              "      <th>oldpeak</th>\n",
              "      <th>slope</th>\n",
              "      <th>vessels_colored_by_flourosopy</th>\n",
              "      <th>thalassemia</th>\n",
              "      <th>target</th>\n",
              "    </tr>\n",
              "  </thead>\n",
              "  <tbody>\n",
              "    <tr>\n",
              "      <th>0</th>\n",
              "      <td>52</td>\n",
              "      <td>Male</td>\n",
              "      <td>Typical angina</td>\n",
              "      <td>125</td>\n",
              "      <td>212</td>\n",
              "      <td>Lower than 120 mg/ml</td>\n",
              "      <td>ST-T wave abnormality</td>\n",
              "      <td>168</td>\n",
              "      <td>No</td>\n",
              "      <td>1.0</td>\n",
              "      <td>Downsloping</td>\n",
              "      <td>Two</td>\n",
              "      <td>Reversable Defect</td>\n",
              "      <td>0</td>\n",
              "    </tr>\n",
              "    <tr>\n",
              "      <th>1</th>\n",
              "      <td>53</td>\n",
              "      <td>Male</td>\n",
              "      <td>Typical angina</td>\n",
              "      <td>140</td>\n",
              "      <td>203</td>\n",
              "      <td>Greater than 120 mg/ml</td>\n",
              "      <td>Normal</td>\n",
              "      <td>155</td>\n",
              "      <td>Yes</td>\n",
              "      <td>3.1</td>\n",
              "      <td>Upsloping</td>\n",
              "      <td>Zero</td>\n",
              "      <td>Reversable Defect</td>\n",
              "      <td>0</td>\n",
              "    </tr>\n",
              "    <tr>\n",
              "      <th>2</th>\n",
              "      <td>70</td>\n",
              "      <td>Male</td>\n",
              "      <td>Typical angina</td>\n",
              "      <td>145</td>\n",
              "      <td>174</td>\n",
              "      <td>Lower than 120 mg/ml</td>\n",
              "      <td>ST-T wave abnormality</td>\n",
              "      <td>125</td>\n",
              "      <td>Yes</td>\n",
              "      <td>2.6</td>\n",
              "      <td>Upsloping</td>\n",
              "      <td>Zero</td>\n",
              "      <td>Reversable Defect</td>\n",
              "      <td>0</td>\n",
              "    </tr>\n",
              "    <tr>\n",
              "      <th>3</th>\n",
              "      <td>61</td>\n",
              "      <td>Male</td>\n",
              "      <td>Typical angina</td>\n",
              "      <td>148</td>\n",
              "      <td>203</td>\n",
              "      <td>Lower than 120 mg/ml</td>\n",
              "      <td>ST-T wave abnormality</td>\n",
              "      <td>161</td>\n",
              "      <td>No</td>\n",
              "      <td>0.0</td>\n",
              "      <td>Downsloping</td>\n",
              "      <td>One</td>\n",
              "      <td>Reversable Defect</td>\n",
              "      <td>0</td>\n",
              "    </tr>\n",
              "    <tr>\n",
              "      <th>4</th>\n",
              "      <td>62</td>\n",
              "      <td>Female</td>\n",
              "      <td>Typical angina</td>\n",
              "      <td>138</td>\n",
              "      <td>294</td>\n",
              "      <td>Greater than 120 mg/ml</td>\n",
              "      <td>ST-T wave abnormality</td>\n",
              "      <td>106</td>\n",
              "      <td>No</td>\n",
              "      <td>1.9</td>\n",
              "      <td>Flat</td>\n",
              "      <td>Three</td>\n",
              "      <td>Fixed Defect</td>\n",
              "      <td>0</td>\n",
              "    </tr>\n",
              "  </tbody>\n",
              "</table>\n",
              "</div>\n",
              "      <button class=\"colab-df-convert\" onclick=\"convertToInteractive('df-d51f8aa0-2d67-49ce-a05f-ea01409834e0')\"\n",
              "              title=\"Convert this dataframe to an interactive table.\"\n",
              "              style=\"display:none;\">\n",
              "        \n",
              "  <svg xmlns=\"http://www.w3.org/2000/svg\" height=\"24px\"viewBox=\"0 0 24 24\"\n",
              "       width=\"24px\">\n",
              "    <path d=\"M0 0h24v24H0V0z\" fill=\"none\"/>\n",
              "    <path d=\"M18.56 5.44l.94 2.06.94-2.06 2.06-.94-2.06-.94-.94-2.06-.94 2.06-2.06.94zm-11 1L8.5 8.5l.94-2.06 2.06-.94-2.06-.94L8.5 2.5l-.94 2.06-2.06.94zm10 10l.94 2.06.94-2.06 2.06-.94-2.06-.94-.94-2.06-.94 2.06-2.06.94z\"/><path d=\"M17.41 7.96l-1.37-1.37c-.4-.4-.92-.59-1.43-.59-.52 0-1.04.2-1.43.59L10.3 9.45l-7.72 7.72c-.78.78-.78 2.05 0 2.83L4 21.41c.39.39.9.59 1.41.59.51 0 1.02-.2 1.41-.59l7.78-7.78 2.81-2.81c.8-.78.8-2.07 0-2.86zM5.41 20L4 18.59l7.72-7.72 1.47 1.35L5.41 20z\"/>\n",
              "  </svg>\n",
              "      </button>\n",
              "      \n",
              "  <style>\n",
              "    .colab-df-container {\n",
              "      display:flex;\n",
              "      flex-wrap:wrap;\n",
              "      gap: 12px;\n",
              "    }\n",
              "\n",
              "    .colab-df-convert {\n",
              "      background-color: #E8F0FE;\n",
              "      border: none;\n",
              "      border-radius: 50%;\n",
              "      cursor: pointer;\n",
              "      display: none;\n",
              "      fill: #1967D2;\n",
              "      height: 32px;\n",
              "      padding: 0 0 0 0;\n",
              "      width: 32px;\n",
              "    }\n",
              "\n",
              "    .colab-df-convert:hover {\n",
              "      background-color: #E2EBFA;\n",
              "      box-shadow: 0px 1px 2px rgba(60, 64, 67, 0.3), 0px 1px 3px 1px rgba(60, 64, 67, 0.15);\n",
              "      fill: #174EA6;\n",
              "    }\n",
              "\n",
              "    [theme=dark] .colab-df-convert {\n",
              "      background-color: #3B4455;\n",
              "      fill: #D2E3FC;\n",
              "    }\n",
              "\n",
              "    [theme=dark] .colab-df-convert:hover {\n",
              "      background-color: #434B5C;\n",
              "      box-shadow: 0px 1px 3px 1px rgba(0, 0, 0, 0.15);\n",
              "      filter: drop-shadow(0px 1px 2px rgba(0, 0, 0, 0.3));\n",
              "      fill: #FFFFFF;\n",
              "    }\n",
              "  </style>\n",
              "\n",
              "      <script>\n",
              "        const buttonEl =\n",
              "          document.querySelector('#df-d51f8aa0-2d67-49ce-a05f-ea01409834e0 button.colab-df-convert');\n",
              "        buttonEl.style.display =\n",
              "          google.colab.kernel.accessAllowed ? 'block' : 'none';\n",
              "\n",
              "        async function convertToInteractive(key) {\n",
              "          const element = document.querySelector('#df-d51f8aa0-2d67-49ce-a05f-ea01409834e0');\n",
              "          const dataTable =\n",
              "            await google.colab.kernel.invokeFunction('convertToInteractive',\n",
              "                                                     [key], {});\n",
              "          if (!dataTable) return;\n",
              "\n",
              "          const docLinkHtml = 'Like what you see? Visit the ' +\n",
              "            '<a target=\"_blank\" href=https://colab.research.google.com/notebooks/data_table.ipynb>data table notebook</a>'\n",
              "            + ' to learn more about interactive tables.';\n",
              "          element.innerHTML = '';\n",
              "          dataTable['output_type'] = 'display_data';\n",
              "          await google.colab.output.renderOutput(dataTable, element);\n",
              "          const docLink = document.createElement('div');\n",
              "          docLink.innerHTML = docLinkHtml;\n",
              "          element.appendChild(docLink);\n",
              "        }\n",
              "      </script>\n",
              "    </div>\n",
              "  </div>\n",
              "  "
            ]
          },
          "metadata": {},
          "execution_count": 247
        }
      ]
    },
    {
      "cell_type": "code",
      "source": [
        "df.info() # to see the information about the dataframe"
      ],
      "metadata": {
        "colab": {
          "base_uri": "https://localhost:8080/"
        },
        "id": "8G8pOIt-jWhn",
        "outputId": "ebb65d83-464c-4bbc-c689-6a678013a92f"
      },
      "execution_count": null,
      "outputs": [
        {
          "output_type": "stream",
          "name": "stdout",
          "text": [
            "<class 'pandas.core.frame.DataFrame'>\n",
            "RangeIndex: 1025 entries, 0 to 1024\n",
            "Data columns (total 14 columns):\n",
            " #   Column                         Non-Null Count  Dtype  \n",
            "---  ------                         --------------  -----  \n",
            " 0   age                            1025 non-null   int64  \n",
            " 1   sex                            1025 non-null   object \n",
            " 2   chest_pain_type                1025 non-null   object \n",
            " 3   resting_blood_pressure         1025 non-null   int64  \n",
            " 4   cholestoral                    1025 non-null   int64  \n",
            " 5   fasting_blood_sugar            1025 non-null   object \n",
            " 6   rest_ecg                       1025 non-null   object \n",
            " 7   Max_heart_rate                 1025 non-null   int64  \n",
            " 8   exercise_induced_angina        1025 non-null   object \n",
            " 9   oldpeak                        1025 non-null   float64\n",
            " 10  slope                          1025 non-null   object \n",
            " 11  vessels_colored_by_flourosopy  1025 non-null   object \n",
            " 12  thalassemia                    1025 non-null   object \n",
            " 13  target                         1025 non-null   int64  \n",
            "dtypes: float64(1), int64(5), object(8)\n",
            "memory usage: 112.2+ KB\n"
          ]
        }
      ]
    },
    {
      "cell_type": "code",
      "source": [
        "df.isnull().sum()   # to check the null values"
      ],
      "metadata": {
        "colab": {
          "base_uri": "https://localhost:8080/"
        },
        "id": "8HZOJydBjeXF",
        "outputId": "3c65fb03-2206-4a0f-92eb-946dd187b26f"
      },
      "execution_count": null,
      "outputs": [
        {
          "output_type": "execute_result",
          "data": {
            "text/plain": [
              "age                              0\n",
              "sex                              0\n",
              "chest_pain_type                  0\n",
              "resting_blood_pressure           0\n",
              "cholestoral                      0\n",
              "fasting_blood_sugar              0\n",
              "rest_ecg                         0\n",
              "Max_heart_rate                   0\n",
              "exercise_induced_angina          0\n",
              "oldpeak                          0\n",
              "slope                            0\n",
              "vessels_colored_by_flourosopy    0\n",
              "thalassemia                      0\n",
              "target                           0\n",
              "dtype: int64"
            ]
          },
          "metadata": {},
          "execution_count": 249
        }
      ]
    },
    {
      "cell_type": "code",
      "source": [],
      "metadata": {
        "id": "ZkEFYyUKqKkH"
      },
      "execution_count": null,
      "outputs": []
    },
    {
      "cell_type": "code",
      "source": [
        "#df.drop(['age'],axis=1)\n",
        "df.drop(['age','resting_blood_pressure','cholestoral','Max_heart_rate','oldpeak'],axis=1, inplace=True)"
      ],
      "metadata": {
        "id": "vISJ6Is7nofq"
      },
      "execution_count": null,
      "outputs": []
    },
    {
      "cell_type": "code",
      "source": [
        "df.head()"
      ],
      "metadata": {
        "id": "44o72nxTqSBd",
        "outputId": "06d601e2-f08b-4db9-e290-fc326c613a29",
        "colab": {
          "base_uri": "https://localhost:8080/",
          "height": 357
        }
      },
      "execution_count": null,
      "outputs": [
        {
          "output_type": "execute_result",
          "data": {
            "text/plain": [
              "      sex chest_pain_type     fasting_blood_sugar               rest_ecg  \\\n",
              "0    Male  Typical angina    Lower than 120 mg/ml  ST-T wave abnormality   \n",
              "1    Male  Typical angina  Greater than 120 mg/ml                 Normal   \n",
              "2    Male  Typical angina    Lower than 120 mg/ml  ST-T wave abnormality   \n",
              "3    Male  Typical angina    Lower than 120 mg/ml  ST-T wave abnormality   \n",
              "4  Female  Typical angina  Greater than 120 mg/ml  ST-T wave abnormality   \n",
              "\n",
              "  exercise_induced_angina        slope vessels_colored_by_flourosopy  \\\n",
              "0                      No  Downsloping                           Two   \n",
              "1                     Yes    Upsloping                          Zero   \n",
              "2                     Yes    Upsloping                          Zero   \n",
              "3                      No  Downsloping                           One   \n",
              "4                      No         Flat                         Three   \n",
              "\n",
              "         thalassemia  target  \n",
              "0  Reversable Defect       0  \n",
              "1  Reversable Defect       0  \n",
              "2  Reversable Defect       0  \n",
              "3  Reversable Defect       0  \n",
              "4       Fixed Defect       0  "
            ],
            "text/html": [
              "\n",
              "  <div id=\"df-bfa03e31-65b7-482c-bc81-4a6163a9510f\">\n",
              "    <div class=\"colab-df-container\">\n",
              "      <div>\n",
              "<style scoped>\n",
              "    .dataframe tbody tr th:only-of-type {\n",
              "        vertical-align: middle;\n",
              "    }\n",
              "\n",
              "    .dataframe tbody tr th {\n",
              "        vertical-align: top;\n",
              "    }\n",
              "\n",
              "    .dataframe thead th {\n",
              "        text-align: right;\n",
              "    }\n",
              "</style>\n",
              "<table border=\"1\" class=\"dataframe\">\n",
              "  <thead>\n",
              "    <tr style=\"text-align: right;\">\n",
              "      <th></th>\n",
              "      <th>sex</th>\n",
              "      <th>chest_pain_type</th>\n",
              "      <th>fasting_blood_sugar</th>\n",
              "      <th>rest_ecg</th>\n",
              "      <th>exercise_induced_angina</th>\n",
              "      <th>slope</th>\n",
              "      <th>vessels_colored_by_flourosopy</th>\n",
              "      <th>thalassemia</th>\n",
              "      <th>target</th>\n",
              "    </tr>\n",
              "  </thead>\n",
              "  <tbody>\n",
              "    <tr>\n",
              "      <th>0</th>\n",
              "      <td>Male</td>\n",
              "      <td>Typical angina</td>\n",
              "      <td>Lower than 120 mg/ml</td>\n",
              "      <td>ST-T wave abnormality</td>\n",
              "      <td>No</td>\n",
              "      <td>Downsloping</td>\n",
              "      <td>Two</td>\n",
              "      <td>Reversable Defect</td>\n",
              "      <td>0</td>\n",
              "    </tr>\n",
              "    <tr>\n",
              "      <th>1</th>\n",
              "      <td>Male</td>\n",
              "      <td>Typical angina</td>\n",
              "      <td>Greater than 120 mg/ml</td>\n",
              "      <td>Normal</td>\n",
              "      <td>Yes</td>\n",
              "      <td>Upsloping</td>\n",
              "      <td>Zero</td>\n",
              "      <td>Reversable Defect</td>\n",
              "      <td>0</td>\n",
              "    </tr>\n",
              "    <tr>\n",
              "      <th>2</th>\n",
              "      <td>Male</td>\n",
              "      <td>Typical angina</td>\n",
              "      <td>Lower than 120 mg/ml</td>\n",
              "      <td>ST-T wave abnormality</td>\n",
              "      <td>Yes</td>\n",
              "      <td>Upsloping</td>\n",
              "      <td>Zero</td>\n",
              "      <td>Reversable Defect</td>\n",
              "      <td>0</td>\n",
              "    </tr>\n",
              "    <tr>\n",
              "      <th>3</th>\n",
              "      <td>Male</td>\n",
              "      <td>Typical angina</td>\n",
              "      <td>Lower than 120 mg/ml</td>\n",
              "      <td>ST-T wave abnormality</td>\n",
              "      <td>No</td>\n",
              "      <td>Downsloping</td>\n",
              "      <td>One</td>\n",
              "      <td>Reversable Defect</td>\n",
              "      <td>0</td>\n",
              "    </tr>\n",
              "    <tr>\n",
              "      <th>4</th>\n",
              "      <td>Female</td>\n",
              "      <td>Typical angina</td>\n",
              "      <td>Greater than 120 mg/ml</td>\n",
              "      <td>ST-T wave abnormality</td>\n",
              "      <td>No</td>\n",
              "      <td>Flat</td>\n",
              "      <td>Three</td>\n",
              "      <td>Fixed Defect</td>\n",
              "      <td>0</td>\n",
              "    </tr>\n",
              "  </tbody>\n",
              "</table>\n",
              "</div>\n",
              "      <button class=\"colab-df-convert\" onclick=\"convertToInteractive('df-bfa03e31-65b7-482c-bc81-4a6163a9510f')\"\n",
              "              title=\"Convert this dataframe to an interactive table.\"\n",
              "              style=\"display:none;\">\n",
              "        \n",
              "  <svg xmlns=\"http://www.w3.org/2000/svg\" height=\"24px\"viewBox=\"0 0 24 24\"\n",
              "       width=\"24px\">\n",
              "    <path d=\"M0 0h24v24H0V0z\" fill=\"none\"/>\n",
              "    <path d=\"M18.56 5.44l.94 2.06.94-2.06 2.06-.94-2.06-.94-.94-2.06-.94 2.06-2.06.94zm-11 1L8.5 8.5l.94-2.06 2.06-.94-2.06-.94L8.5 2.5l-.94 2.06-2.06.94zm10 10l.94 2.06.94-2.06 2.06-.94-2.06-.94-.94-2.06-.94 2.06-2.06.94z\"/><path d=\"M17.41 7.96l-1.37-1.37c-.4-.4-.92-.59-1.43-.59-.52 0-1.04.2-1.43.59L10.3 9.45l-7.72 7.72c-.78.78-.78 2.05 0 2.83L4 21.41c.39.39.9.59 1.41.59.51 0 1.02-.2 1.41-.59l7.78-7.78 2.81-2.81c.8-.78.8-2.07 0-2.86zM5.41 20L4 18.59l7.72-7.72 1.47 1.35L5.41 20z\"/>\n",
              "  </svg>\n",
              "      </button>\n",
              "      \n",
              "  <style>\n",
              "    .colab-df-container {\n",
              "      display:flex;\n",
              "      flex-wrap:wrap;\n",
              "      gap: 12px;\n",
              "    }\n",
              "\n",
              "    .colab-df-convert {\n",
              "      background-color: #E8F0FE;\n",
              "      border: none;\n",
              "      border-radius: 50%;\n",
              "      cursor: pointer;\n",
              "      display: none;\n",
              "      fill: #1967D2;\n",
              "      height: 32px;\n",
              "      padding: 0 0 0 0;\n",
              "      width: 32px;\n",
              "    }\n",
              "\n",
              "    .colab-df-convert:hover {\n",
              "      background-color: #E2EBFA;\n",
              "      box-shadow: 0px 1px 2px rgba(60, 64, 67, 0.3), 0px 1px 3px 1px rgba(60, 64, 67, 0.15);\n",
              "      fill: #174EA6;\n",
              "    }\n",
              "\n",
              "    [theme=dark] .colab-df-convert {\n",
              "      background-color: #3B4455;\n",
              "      fill: #D2E3FC;\n",
              "    }\n",
              "\n",
              "    [theme=dark] .colab-df-convert:hover {\n",
              "      background-color: #434B5C;\n",
              "      box-shadow: 0px 1px 3px 1px rgba(0, 0, 0, 0.15);\n",
              "      filter: drop-shadow(0px 1px 2px rgba(0, 0, 0, 0.3));\n",
              "      fill: #FFFFFF;\n",
              "    }\n",
              "  </style>\n",
              "\n",
              "      <script>\n",
              "        const buttonEl =\n",
              "          document.querySelector('#df-bfa03e31-65b7-482c-bc81-4a6163a9510f button.colab-df-convert');\n",
              "        buttonEl.style.display =\n",
              "          google.colab.kernel.accessAllowed ? 'block' : 'none';\n",
              "\n",
              "        async function convertToInteractive(key) {\n",
              "          const element = document.querySelector('#df-bfa03e31-65b7-482c-bc81-4a6163a9510f');\n",
              "          const dataTable =\n",
              "            await google.colab.kernel.invokeFunction('convertToInteractive',\n",
              "                                                     [key], {});\n",
              "          if (!dataTable) return;\n",
              "\n",
              "          const docLinkHtml = 'Like what you see? Visit the ' +\n",
              "            '<a target=\"_blank\" href=https://colab.research.google.com/notebooks/data_table.ipynb>data table notebook</a>'\n",
              "            + ' to learn more about interactive tables.';\n",
              "          element.innerHTML = '';\n",
              "          dataTable['output_type'] = 'display_data';\n",
              "          await google.colab.output.renderOutput(dataTable, element);\n",
              "          const docLink = document.createElement('div');\n",
              "          docLink.innerHTML = docLinkHtml;\n",
              "          element.appendChild(docLink);\n",
              "        }\n",
              "      </script>\n",
              "    </div>\n",
              "  </div>\n",
              "  "
            ]
          },
          "metadata": {},
          "execution_count": 251
        }
      ]
    },
    {
      "cell_type": "markdown",
      "source": [
        "# Replacing the data with numberical values"
      ],
      "metadata": {
        "id": "GQwOhcujE03q"
      }
    },
    {
      "cell_type": "code",
      "source": [
        "# Replacing Data in Sex Column\n",
        "df[\"sex\"].replace({\"Male\" : 1,\"Female\" : 0}, inplace=True)\n",
        "\n",
        "# Replacing CP Column\n",
        "df[\"chest_pain_type\"].replace({\"Typical angina\" : 1,\"Atypical angina\" : 2,\"Non-anginal pain\" : 3,\"Asymptomatic\" : 4}, inplace=True)\n",
        "\n",
        "# Replacing Data in FBS\n",
        "df[\"fasting_blood_sugar\"].replace({\"Greater than 120 mg/ml\" : 1,\"Lower than 120 mg/ml\" : 0}, inplace=True)\n",
        "\n",
        "# Replacing Data in restecg\n",
        "df[\"rest_ecg\"].replace({\"Normal\" : 0, \"ST-T wave abnormality\" : 1,\"Left ventricular hypertrophy\" : 2}, inplace=True)\n",
        "\n",
        "# Replacing Data in exang\n",
        "df[\"exercise_induced_angina\"].replace({\"Yes\" : 1, \"No\" : 0}, inplace=True)\n",
        "\n",
        "# Replacing Data in slope\n",
        "df[\"slope\"].replace({\"Upsloping\" : 1,\"Flat\" : 2,\"Downsloping\" : 3}, inplace=True)\n",
        "\n",
        "# Replacing Vessels_colored_by_flourosopy\n",
        "df[\"vessels_colored_by_flourosopy\"].replace({\"Zero\" : 0, \"One\" : 1, \"Two\" : 2, \"Three\" : 3, \"Four\" : 4}, inplace=True)\n",
        "\n",
        "# Replacing Data in thalassemial\n",
        "df[\"thalassemia\"].replace({\"Normal\" : 3, \"Fixed Defect\" : 6, \"Reversable Defect\" : 7, \"No\" : 0}, inplace=True)"
      ],
      "metadata": {
        "id": "mVRmS3HWE0Tr"
      },
      "execution_count": null,
      "outputs": []
    },
    {
      "cell_type": "code",
      "source": [
        "df.head()"
      ],
      "metadata": {
        "colab": {
          "base_uri": "https://localhost:8080/",
          "height": 270
        },
        "id": "aKKeeYMmGW1V",
        "outputId": "7fb6dfe1-f258-4629-a178-3939bb80530a"
      },
      "execution_count": null,
      "outputs": [
        {
          "output_type": "execute_result",
          "data": {
            "text/plain": [
              "   sex  chest_pain_type  fasting_blood_sugar  rest_ecg  \\\n",
              "0    1                1                    0         1   \n",
              "1    1                1                    1         0   \n",
              "2    1                1                    0         1   \n",
              "3    1                1                    0         1   \n",
              "4    0                1                    1         1   \n",
              "\n",
              "   exercise_induced_angina  slope  vessels_colored_by_flourosopy  thalassemia  \\\n",
              "0                        0      3                              2            7   \n",
              "1                        1      1                              0            7   \n",
              "2                        1      1                              0            7   \n",
              "3                        0      3                              1            7   \n",
              "4                        0      2                              3            6   \n",
              "\n",
              "   target  \n",
              "0       0  \n",
              "1       0  \n",
              "2       0  \n",
              "3       0  \n",
              "4       0  "
            ],
            "text/html": [
              "\n",
              "  <div id=\"df-7eb2cef8-fc04-4b0e-b04f-7380ffc275e2\">\n",
              "    <div class=\"colab-df-container\">\n",
              "      <div>\n",
              "<style scoped>\n",
              "    .dataframe tbody tr th:only-of-type {\n",
              "        vertical-align: middle;\n",
              "    }\n",
              "\n",
              "    .dataframe tbody tr th {\n",
              "        vertical-align: top;\n",
              "    }\n",
              "\n",
              "    .dataframe thead th {\n",
              "        text-align: right;\n",
              "    }\n",
              "</style>\n",
              "<table border=\"1\" class=\"dataframe\">\n",
              "  <thead>\n",
              "    <tr style=\"text-align: right;\">\n",
              "      <th></th>\n",
              "      <th>sex</th>\n",
              "      <th>chest_pain_type</th>\n",
              "      <th>fasting_blood_sugar</th>\n",
              "      <th>rest_ecg</th>\n",
              "      <th>exercise_induced_angina</th>\n",
              "      <th>slope</th>\n",
              "      <th>vessels_colored_by_flourosopy</th>\n",
              "      <th>thalassemia</th>\n",
              "      <th>target</th>\n",
              "    </tr>\n",
              "  </thead>\n",
              "  <tbody>\n",
              "    <tr>\n",
              "      <th>0</th>\n",
              "      <td>1</td>\n",
              "      <td>1</td>\n",
              "      <td>0</td>\n",
              "      <td>1</td>\n",
              "      <td>0</td>\n",
              "      <td>3</td>\n",
              "      <td>2</td>\n",
              "      <td>7</td>\n",
              "      <td>0</td>\n",
              "    </tr>\n",
              "    <tr>\n",
              "      <th>1</th>\n",
              "      <td>1</td>\n",
              "      <td>1</td>\n",
              "      <td>1</td>\n",
              "      <td>0</td>\n",
              "      <td>1</td>\n",
              "      <td>1</td>\n",
              "      <td>0</td>\n",
              "      <td>7</td>\n",
              "      <td>0</td>\n",
              "    </tr>\n",
              "    <tr>\n",
              "      <th>2</th>\n",
              "      <td>1</td>\n",
              "      <td>1</td>\n",
              "      <td>0</td>\n",
              "      <td>1</td>\n",
              "      <td>1</td>\n",
              "      <td>1</td>\n",
              "      <td>0</td>\n",
              "      <td>7</td>\n",
              "      <td>0</td>\n",
              "    </tr>\n",
              "    <tr>\n",
              "      <th>3</th>\n",
              "      <td>1</td>\n",
              "      <td>1</td>\n",
              "      <td>0</td>\n",
              "      <td>1</td>\n",
              "      <td>0</td>\n",
              "      <td>3</td>\n",
              "      <td>1</td>\n",
              "      <td>7</td>\n",
              "      <td>0</td>\n",
              "    </tr>\n",
              "    <tr>\n",
              "      <th>4</th>\n",
              "      <td>0</td>\n",
              "      <td>1</td>\n",
              "      <td>1</td>\n",
              "      <td>1</td>\n",
              "      <td>0</td>\n",
              "      <td>2</td>\n",
              "      <td>3</td>\n",
              "      <td>6</td>\n",
              "      <td>0</td>\n",
              "    </tr>\n",
              "  </tbody>\n",
              "</table>\n",
              "</div>\n",
              "      <button class=\"colab-df-convert\" onclick=\"convertToInteractive('df-7eb2cef8-fc04-4b0e-b04f-7380ffc275e2')\"\n",
              "              title=\"Convert this dataframe to an interactive table.\"\n",
              "              style=\"display:none;\">\n",
              "        \n",
              "  <svg xmlns=\"http://www.w3.org/2000/svg\" height=\"24px\"viewBox=\"0 0 24 24\"\n",
              "       width=\"24px\">\n",
              "    <path d=\"M0 0h24v24H0V0z\" fill=\"none\"/>\n",
              "    <path d=\"M18.56 5.44l.94 2.06.94-2.06 2.06-.94-2.06-.94-.94-2.06-.94 2.06-2.06.94zm-11 1L8.5 8.5l.94-2.06 2.06-.94-2.06-.94L8.5 2.5l-.94 2.06-2.06.94zm10 10l.94 2.06.94-2.06 2.06-.94-2.06-.94-.94-2.06-.94 2.06-2.06.94z\"/><path d=\"M17.41 7.96l-1.37-1.37c-.4-.4-.92-.59-1.43-.59-.52 0-1.04.2-1.43.59L10.3 9.45l-7.72 7.72c-.78.78-.78 2.05 0 2.83L4 21.41c.39.39.9.59 1.41.59.51 0 1.02-.2 1.41-.59l7.78-7.78 2.81-2.81c.8-.78.8-2.07 0-2.86zM5.41 20L4 18.59l7.72-7.72 1.47 1.35L5.41 20z\"/>\n",
              "  </svg>\n",
              "      </button>\n",
              "      \n",
              "  <style>\n",
              "    .colab-df-container {\n",
              "      display:flex;\n",
              "      flex-wrap:wrap;\n",
              "      gap: 12px;\n",
              "    }\n",
              "\n",
              "    .colab-df-convert {\n",
              "      background-color: #E8F0FE;\n",
              "      border: none;\n",
              "      border-radius: 50%;\n",
              "      cursor: pointer;\n",
              "      display: none;\n",
              "      fill: #1967D2;\n",
              "      height: 32px;\n",
              "      padding: 0 0 0 0;\n",
              "      width: 32px;\n",
              "    }\n",
              "\n",
              "    .colab-df-convert:hover {\n",
              "      background-color: #E2EBFA;\n",
              "      box-shadow: 0px 1px 2px rgba(60, 64, 67, 0.3), 0px 1px 3px 1px rgba(60, 64, 67, 0.15);\n",
              "      fill: #174EA6;\n",
              "    }\n",
              "\n",
              "    [theme=dark] .colab-df-convert {\n",
              "      background-color: #3B4455;\n",
              "      fill: #D2E3FC;\n",
              "    }\n",
              "\n",
              "    [theme=dark] .colab-df-convert:hover {\n",
              "      background-color: #434B5C;\n",
              "      box-shadow: 0px 1px 3px 1px rgba(0, 0, 0, 0.15);\n",
              "      filter: drop-shadow(0px 1px 2px rgba(0, 0, 0, 0.3));\n",
              "      fill: #FFFFFF;\n",
              "    }\n",
              "  </style>\n",
              "\n",
              "      <script>\n",
              "        const buttonEl =\n",
              "          document.querySelector('#df-7eb2cef8-fc04-4b0e-b04f-7380ffc275e2 button.colab-df-convert');\n",
              "        buttonEl.style.display =\n",
              "          google.colab.kernel.accessAllowed ? 'block' : 'none';\n",
              "\n",
              "        async function convertToInteractive(key) {\n",
              "          const element = document.querySelector('#df-7eb2cef8-fc04-4b0e-b04f-7380ffc275e2');\n",
              "          const dataTable =\n",
              "            await google.colab.kernel.invokeFunction('convertToInteractive',\n",
              "                                                     [key], {});\n",
              "          if (!dataTable) return;\n",
              "\n",
              "          const docLinkHtml = 'Like what you see? Visit the ' +\n",
              "            '<a target=\"_blank\" href=https://colab.research.google.com/notebooks/data_table.ipynb>data table notebook</a>'\n",
              "            + ' to learn more about interactive tables.';\n",
              "          element.innerHTML = '';\n",
              "          dataTable['output_type'] = 'display_data';\n",
              "          await google.colab.output.renderOutput(dataTable, element);\n",
              "          const docLink = document.createElement('div');\n",
              "          docLink.innerHTML = docLinkHtml;\n",
              "          element.appendChild(docLink);\n",
              "        }\n",
              "      </script>\n",
              "    </div>\n",
              "  </div>\n",
              "  "
            ]
          },
          "metadata": {},
          "execution_count": 253
        }
      ]
    },
    {
      "cell_type": "markdown",
      "source": [
        "# Getting Features and Target Data ready"
      ],
      "metadata": {
        "id": "-y5mR302HmJm"
      }
    },
    {
      "cell_type": "code",
      "source": [
        "X = df.drop('target',axis =1)\n",
        "y = df['target']"
      ],
      "metadata": {
        "id": "Oq5i03OzGhLO"
      },
      "execution_count": null,
      "outputs": []
    },
    {
      "cell_type": "code",
      "source": [
        "X.head()\n"
      ],
      "metadata": {
        "colab": {
          "base_uri": "https://localhost:8080/",
          "height": 270
        },
        "id": "u3axq0asIA1K",
        "outputId": "6d54bc74-2466-48f9-eba8-330ccb9f58c9"
      },
      "execution_count": null,
      "outputs": [
        {
          "output_type": "execute_result",
          "data": {
            "text/plain": [
              "   sex  chest_pain_type  fasting_blood_sugar  rest_ecg  \\\n",
              "0    1                1                    0         1   \n",
              "1    1                1                    1         0   \n",
              "2    1                1                    0         1   \n",
              "3    1                1                    0         1   \n",
              "4    0                1                    1         1   \n",
              "\n",
              "   exercise_induced_angina  slope  vessels_colored_by_flourosopy  thalassemia  \n",
              "0                        0      3                              2            7  \n",
              "1                        1      1                              0            7  \n",
              "2                        1      1                              0            7  \n",
              "3                        0      3                              1            7  \n",
              "4                        0      2                              3            6  "
            ],
            "text/html": [
              "\n",
              "  <div id=\"df-c50d81f0-8389-4d1a-91a2-b690ab5fef5a\">\n",
              "    <div class=\"colab-df-container\">\n",
              "      <div>\n",
              "<style scoped>\n",
              "    .dataframe tbody tr th:only-of-type {\n",
              "        vertical-align: middle;\n",
              "    }\n",
              "\n",
              "    .dataframe tbody tr th {\n",
              "        vertical-align: top;\n",
              "    }\n",
              "\n",
              "    .dataframe thead th {\n",
              "        text-align: right;\n",
              "    }\n",
              "</style>\n",
              "<table border=\"1\" class=\"dataframe\">\n",
              "  <thead>\n",
              "    <tr style=\"text-align: right;\">\n",
              "      <th></th>\n",
              "      <th>sex</th>\n",
              "      <th>chest_pain_type</th>\n",
              "      <th>fasting_blood_sugar</th>\n",
              "      <th>rest_ecg</th>\n",
              "      <th>exercise_induced_angina</th>\n",
              "      <th>slope</th>\n",
              "      <th>vessels_colored_by_flourosopy</th>\n",
              "      <th>thalassemia</th>\n",
              "    </tr>\n",
              "  </thead>\n",
              "  <tbody>\n",
              "    <tr>\n",
              "      <th>0</th>\n",
              "      <td>1</td>\n",
              "      <td>1</td>\n",
              "      <td>0</td>\n",
              "      <td>1</td>\n",
              "      <td>0</td>\n",
              "      <td>3</td>\n",
              "      <td>2</td>\n",
              "      <td>7</td>\n",
              "    </tr>\n",
              "    <tr>\n",
              "      <th>1</th>\n",
              "      <td>1</td>\n",
              "      <td>1</td>\n",
              "      <td>1</td>\n",
              "      <td>0</td>\n",
              "      <td>1</td>\n",
              "      <td>1</td>\n",
              "      <td>0</td>\n",
              "      <td>7</td>\n",
              "    </tr>\n",
              "    <tr>\n",
              "      <th>2</th>\n",
              "      <td>1</td>\n",
              "      <td>1</td>\n",
              "      <td>0</td>\n",
              "      <td>1</td>\n",
              "      <td>1</td>\n",
              "      <td>1</td>\n",
              "      <td>0</td>\n",
              "      <td>7</td>\n",
              "    </tr>\n",
              "    <tr>\n",
              "      <th>3</th>\n",
              "      <td>1</td>\n",
              "      <td>1</td>\n",
              "      <td>0</td>\n",
              "      <td>1</td>\n",
              "      <td>0</td>\n",
              "      <td>3</td>\n",
              "      <td>1</td>\n",
              "      <td>7</td>\n",
              "    </tr>\n",
              "    <tr>\n",
              "      <th>4</th>\n",
              "      <td>0</td>\n",
              "      <td>1</td>\n",
              "      <td>1</td>\n",
              "      <td>1</td>\n",
              "      <td>0</td>\n",
              "      <td>2</td>\n",
              "      <td>3</td>\n",
              "      <td>6</td>\n",
              "    </tr>\n",
              "  </tbody>\n",
              "</table>\n",
              "</div>\n",
              "      <button class=\"colab-df-convert\" onclick=\"convertToInteractive('df-c50d81f0-8389-4d1a-91a2-b690ab5fef5a')\"\n",
              "              title=\"Convert this dataframe to an interactive table.\"\n",
              "              style=\"display:none;\">\n",
              "        \n",
              "  <svg xmlns=\"http://www.w3.org/2000/svg\" height=\"24px\"viewBox=\"0 0 24 24\"\n",
              "       width=\"24px\">\n",
              "    <path d=\"M0 0h24v24H0V0z\" fill=\"none\"/>\n",
              "    <path d=\"M18.56 5.44l.94 2.06.94-2.06 2.06-.94-2.06-.94-.94-2.06-.94 2.06-2.06.94zm-11 1L8.5 8.5l.94-2.06 2.06-.94-2.06-.94L8.5 2.5l-.94 2.06-2.06.94zm10 10l.94 2.06.94-2.06 2.06-.94-2.06-.94-.94-2.06-.94 2.06-2.06.94z\"/><path d=\"M17.41 7.96l-1.37-1.37c-.4-.4-.92-.59-1.43-.59-.52 0-1.04.2-1.43.59L10.3 9.45l-7.72 7.72c-.78.78-.78 2.05 0 2.83L4 21.41c.39.39.9.59 1.41.59.51 0 1.02-.2 1.41-.59l7.78-7.78 2.81-2.81c.8-.78.8-2.07 0-2.86zM5.41 20L4 18.59l7.72-7.72 1.47 1.35L5.41 20z\"/>\n",
              "  </svg>\n",
              "      </button>\n",
              "      \n",
              "  <style>\n",
              "    .colab-df-container {\n",
              "      display:flex;\n",
              "      flex-wrap:wrap;\n",
              "      gap: 12px;\n",
              "    }\n",
              "\n",
              "    .colab-df-convert {\n",
              "      background-color: #E8F0FE;\n",
              "      border: none;\n",
              "      border-radius: 50%;\n",
              "      cursor: pointer;\n",
              "      display: none;\n",
              "      fill: #1967D2;\n",
              "      height: 32px;\n",
              "      padding: 0 0 0 0;\n",
              "      width: 32px;\n",
              "    }\n",
              "\n",
              "    .colab-df-convert:hover {\n",
              "      background-color: #E2EBFA;\n",
              "      box-shadow: 0px 1px 2px rgba(60, 64, 67, 0.3), 0px 1px 3px 1px rgba(60, 64, 67, 0.15);\n",
              "      fill: #174EA6;\n",
              "    }\n",
              "\n",
              "    [theme=dark] .colab-df-convert {\n",
              "      background-color: #3B4455;\n",
              "      fill: #D2E3FC;\n",
              "    }\n",
              "\n",
              "    [theme=dark] .colab-df-convert:hover {\n",
              "      background-color: #434B5C;\n",
              "      box-shadow: 0px 1px 3px 1px rgba(0, 0, 0, 0.15);\n",
              "      filter: drop-shadow(0px 1px 2px rgba(0, 0, 0, 0.3));\n",
              "      fill: #FFFFFF;\n",
              "    }\n",
              "  </style>\n",
              "\n",
              "      <script>\n",
              "        const buttonEl =\n",
              "          document.querySelector('#df-c50d81f0-8389-4d1a-91a2-b690ab5fef5a button.colab-df-convert');\n",
              "        buttonEl.style.display =\n",
              "          google.colab.kernel.accessAllowed ? 'block' : 'none';\n",
              "\n",
              "        async function convertToInteractive(key) {\n",
              "          const element = document.querySelector('#df-c50d81f0-8389-4d1a-91a2-b690ab5fef5a');\n",
              "          const dataTable =\n",
              "            await google.colab.kernel.invokeFunction('convertToInteractive',\n",
              "                                                     [key], {});\n",
              "          if (!dataTable) return;\n",
              "\n",
              "          const docLinkHtml = 'Like what you see? Visit the ' +\n",
              "            '<a target=\"_blank\" href=https://colab.research.google.com/notebooks/data_table.ipynb>data table notebook</a>'\n",
              "            + ' to learn more about interactive tables.';\n",
              "          element.innerHTML = '';\n",
              "          dataTable['output_type'] = 'display_data';\n",
              "          await google.colab.output.renderOutput(dataTable, element);\n",
              "          const docLink = document.createElement('div');\n",
              "          docLink.innerHTML = docLinkHtml;\n",
              "          element.appendChild(docLink);\n",
              "        }\n",
              "      </script>\n",
              "    </div>\n",
              "  </div>\n",
              "  "
            ]
          },
          "metadata": {},
          "execution_count": 255
        }
      ]
    },
    {
      "cell_type": "code",
      "source": [
        "y.head()"
      ],
      "metadata": {
        "colab": {
          "base_uri": "https://localhost:8080/"
        },
        "id": "MxxLqlRGILLR",
        "outputId": "2334f01d-06a5-4b5f-8e99-4718ffc669c9"
      },
      "execution_count": null,
      "outputs": [
        {
          "output_type": "execute_result",
          "data": {
            "text/plain": [
              "0    0\n",
              "1    0\n",
              "2    0\n",
              "3    0\n",
              "4    0\n",
              "Name: target, dtype: int64"
            ]
          },
          "metadata": {},
          "execution_count": 256
        }
      ]
    },
    {
      "cell_type": "markdown",
      "source": [
        "# PCA for Dimensionality Reduction"
      ],
      "metadata": {
        "id": "AQ3mTkS4KBVR"
      }
    },
    {
      "cell_type": "code",
      "source": [
        "from sklearn.decomposition import PCA \n",
        "pca = PCA(n_components=2)\n",
        "X_pca = pca.fit(X)\n",
        "\n",
        "X = pca.transform(X)\n",
        "X = pd.DataFrame(data=X)"
      ],
      "metadata": {
        "id": "1w3fXkU1J_Ok"
      },
      "execution_count": null,
      "outputs": []
    },
    {
      "cell_type": "markdown",
      "source": [
        "# Scaling the data using min max scaler"
      ],
      "metadata": {
        "id": "JrxaCm7hI9QQ"
      }
    },
    {
      "cell_type": "code",
      "source": [
        "cols = X.columns\n",
        "from sklearn.preprocessing import MinMaxScaler\n",
        "ms = MinMaxScaler()\n",
        "X = ms.fit_transform(X)\n",
        "X = pd.DataFrame(X, columns=[cols])\n",
        "X.head()"
      ],
      "metadata": {
        "colab": {
          "base_uri": "https://localhost:8080/",
          "height": 206
        },
        "id": "NM6elDaUJAbJ",
        "outputId": "d54adfa0-7b3b-46ba-e8ec-fb4da6f18687"
      },
      "execution_count": null,
      "outputs": [
        {
          "output_type": "execute_result",
          "data": {
            "text/plain": [
              "          0         1\n",
              "0  0.190410  0.243154\n",
              "1  0.296500  0.207837\n",
              "2  0.301798  0.198943\n",
              "3  0.267266  0.201613\n",
              "4  0.181159  0.418742"
            ],
            "text/html": [
              "\n",
              "  <div id=\"df-a11e6995-a04e-461a-9223-de7f1902fc8f\">\n",
              "    <div class=\"colab-df-container\">\n",
              "      <div>\n",
              "<style scoped>\n",
              "    .dataframe tbody tr th:only-of-type {\n",
              "        vertical-align: middle;\n",
              "    }\n",
              "\n",
              "    .dataframe tbody tr th {\n",
              "        vertical-align: top;\n",
              "    }\n",
              "\n",
              "    .dataframe thead tr th {\n",
              "        text-align: left;\n",
              "    }\n",
              "</style>\n",
              "<table border=\"1\" class=\"dataframe\">\n",
              "  <thead>\n",
              "    <tr>\n",
              "      <th></th>\n",
              "      <th>0</th>\n",
              "      <th>1</th>\n",
              "    </tr>\n",
              "  </thead>\n",
              "  <tbody>\n",
              "    <tr>\n",
              "      <th>0</th>\n",
              "      <td>0.190410</td>\n",
              "      <td>0.243154</td>\n",
              "    </tr>\n",
              "    <tr>\n",
              "      <th>1</th>\n",
              "      <td>0.296500</td>\n",
              "      <td>0.207837</td>\n",
              "    </tr>\n",
              "    <tr>\n",
              "      <th>2</th>\n",
              "      <td>0.301798</td>\n",
              "      <td>0.198943</td>\n",
              "    </tr>\n",
              "    <tr>\n",
              "      <th>3</th>\n",
              "      <td>0.267266</td>\n",
              "      <td>0.201613</td>\n",
              "    </tr>\n",
              "    <tr>\n",
              "      <th>4</th>\n",
              "      <td>0.181159</td>\n",
              "      <td>0.418742</td>\n",
              "    </tr>\n",
              "  </tbody>\n",
              "</table>\n",
              "</div>\n",
              "      <button class=\"colab-df-convert\" onclick=\"convertToInteractive('df-a11e6995-a04e-461a-9223-de7f1902fc8f')\"\n",
              "              title=\"Convert this dataframe to an interactive table.\"\n",
              "              style=\"display:none;\">\n",
              "        \n",
              "  <svg xmlns=\"http://www.w3.org/2000/svg\" height=\"24px\"viewBox=\"0 0 24 24\"\n",
              "       width=\"24px\">\n",
              "    <path d=\"M0 0h24v24H0V0z\" fill=\"none\"/>\n",
              "    <path d=\"M18.56 5.44l.94 2.06.94-2.06 2.06-.94-2.06-.94-.94-2.06-.94 2.06-2.06.94zm-11 1L8.5 8.5l.94-2.06 2.06-.94-2.06-.94L8.5 2.5l-.94 2.06-2.06.94zm10 10l.94 2.06.94-2.06 2.06-.94-2.06-.94-.94-2.06-.94 2.06-2.06.94z\"/><path d=\"M17.41 7.96l-1.37-1.37c-.4-.4-.92-.59-1.43-.59-.52 0-1.04.2-1.43.59L10.3 9.45l-7.72 7.72c-.78.78-.78 2.05 0 2.83L4 21.41c.39.39.9.59 1.41.59.51 0 1.02-.2 1.41-.59l7.78-7.78 2.81-2.81c.8-.78.8-2.07 0-2.86zM5.41 20L4 18.59l7.72-7.72 1.47 1.35L5.41 20z\"/>\n",
              "  </svg>\n",
              "      </button>\n",
              "      \n",
              "  <style>\n",
              "    .colab-df-container {\n",
              "      display:flex;\n",
              "      flex-wrap:wrap;\n",
              "      gap: 12px;\n",
              "    }\n",
              "\n",
              "    .colab-df-convert {\n",
              "      background-color: #E8F0FE;\n",
              "      border: none;\n",
              "      border-radius: 50%;\n",
              "      cursor: pointer;\n",
              "      display: none;\n",
              "      fill: #1967D2;\n",
              "      height: 32px;\n",
              "      padding: 0 0 0 0;\n",
              "      width: 32px;\n",
              "    }\n",
              "\n",
              "    .colab-df-convert:hover {\n",
              "      background-color: #E2EBFA;\n",
              "      box-shadow: 0px 1px 2px rgba(60, 64, 67, 0.3), 0px 1px 3px 1px rgba(60, 64, 67, 0.15);\n",
              "      fill: #174EA6;\n",
              "    }\n",
              "\n",
              "    [theme=dark] .colab-df-convert {\n",
              "      background-color: #3B4455;\n",
              "      fill: #D2E3FC;\n",
              "    }\n",
              "\n",
              "    [theme=dark] .colab-df-convert:hover {\n",
              "      background-color: #434B5C;\n",
              "      box-shadow: 0px 1px 3px 1px rgba(0, 0, 0, 0.15);\n",
              "      filter: drop-shadow(0px 1px 2px rgba(0, 0, 0, 0.3));\n",
              "      fill: #FFFFFF;\n",
              "    }\n",
              "  </style>\n",
              "\n",
              "      <script>\n",
              "        const buttonEl =\n",
              "          document.querySelector('#df-a11e6995-a04e-461a-9223-de7f1902fc8f button.colab-df-convert');\n",
              "        buttonEl.style.display =\n",
              "          google.colab.kernel.accessAllowed ? 'block' : 'none';\n",
              "\n",
              "        async function convertToInteractive(key) {\n",
              "          const element = document.querySelector('#df-a11e6995-a04e-461a-9223-de7f1902fc8f');\n",
              "          const dataTable =\n",
              "            await google.colab.kernel.invokeFunction('convertToInteractive',\n",
              "                                                     [key], {});\n",
              "          if (!dataTable) return;\n",
              "\n",
              "          const docLinkHtml = 'Like what you see? Visit the ' +\n",
              "            '<a target=\"_blank\" href=https://colab.research.google.com/notebooks/data_table.ipynb>data table notebook</a>'\n",
              "            + ' to learn more about interactive tables.';\n",
              "          element.innerHTML = '';\n",
              "          dataTable['output_type'] = 'display_data';\n",
              "          await google.colab.output.renderOutput(dataTable, element);\n",
              "          const docLink = document.createElement('div');\n",
              "          docLink.innerHTML = docLinkHtml;\n",
              "          element.appendChild(docLink);\n",
              "        }\n",
              "      </script>\n",
              "    </div>\n",
              "  </div>\n",
              "  "
            ]
          },
          "metadata": {},
          "execution_count": 258
        }
      ]
    },
    {
      "cell_type": "markdown",
      "source": [
        "# Outlier Rejection"
      ],
      "metadata": {
        "id": "ZvJL7YQRNwov"
      }
    },
    {
      "cell_type": "code",
      "source": [
        "# q25,q75 = np.percentile(a = X,q=[25,75])\n",
        "# print(q25)\n",
        "# IQR = q75 - q25\n",
        "# upper_limit = q75+(1.5*IQR)\n",
        "# lower_limit = q25-(1.5*IQR)\n",
        "# print(lower_limit,upper_limit)"
      ],
      "metadata": {
        "id": "hIbhbQ4RNy8a"
      },
      "execution_count": null,
      "outputs": []
    },
    {
      "cell_type": "code",
      "source": [
        "# X_filtered= X[(X[0]>lower_limit)&(X[0]<upper_limit)]\n",
        "# print(X_filtered)\n",
        "# def IQR_bounds(dataframe, column_name, multiple):\n",
        "#     lower_quantile = dataframe[column_name].quantile(0.25)\n",
        "#     upper_quantile = dataframe[column_name].quantile(0.75)\n",
        "#     IQR = upper_quantile - lower_quantile\n",
        "#     lower_bound = lower_quantile - multiple * IQR\n",
        "#     upper_bound = upper_quantile + multiple * IQR\n",
        "#     return lower_bound, upper_bound\n",
        "\n",
        "# columns = [0,1]\n",
        "# column_bounds = {}\n",
        "# for column in columns:\n",
        "#     lower_bound, upper_bound =  IQR_bounds(X, column, 1.5)\n",
        "#     column_bounds[column] = [lower_bound, upper_bound]\n",
        "# X_filtered = X[(X[0]<column_bounds[0][0])&(X[0]>column_bounds[0][1])|(X[1]<column_bounds[1][0])&(X[1]>column_bounds[1][1])]\n",
        "# print(X_filtered)\n"
      ],
      "metadata": {
        "id": "R8_oms07PmIY"
      },
      "execution_count": null,
      "outputs": []
    },
    {
      "cell_type": "code",
      "source": [
        "def remove_outlier_IQR(df):\n",
        "    Q1=df.quantile(0.25)\n",
        "    Q3=df.quantile(0.75)\n",
        "    IQR=Q3-Q1\n",
        "    df_final=df[~((df<(Q1-1.5*IQR)) | (df>(Q3+1.5*IQR)))]\n",
        "    return df_final"
      ],
      "metadata": {
        "id": "3J2sVAmaX_D3"
      },
      "execution_count": null,
      "outputs": []
    },
    {
      "cell_type": "code",
      "source": [
        "df_outlier_removed=remove_outlier_IQR(X)\n",
        "print(df_outlier_removed)"
      ],
      "metadata": {
        "colab": {
          "base_uri": "https://localhost:8080/"
        },
        "id": "31fWSWp-YBeX",
        "outputId": "58a98c65-ac05-46c3-d4fc-5e72b15a7270"
      },
      "execution_count": null,
      "outputs": [
        {
          "output_type": "stream",
          "name": "stdout",
          "text": [
            "             0         1\n",
            "0     0.190410  0.243154\n",
            "1     0.296500  0.207837\n",
            "2     0.301798  0.198943\n",
            "3     0.267266  0.201613\n",
            "4     0.181159  0.418742\n",
            "...        ...       ...\n",
            "1020  0.474172  0.230072\n",
            "1021  0.230063  0.230543\n",
            "1022  0.300715  0.346190\n",
            "1023  0.416344  0.278995\n",
            "1024  0.256342  0.215265\n",
            "\n",
            "[1025 rows x 2 columns]\n"
          ]
        }
      ]
    },
    {
      "cell_type": "markdown",
      "source": [
        "# Model"
      ],
      "metadata": {
        "id": "J8PgxSCyIWQP"
      }
    },
    {
      "cell_type": "code",
      "source": [
        "from sklearn.cluster import KMeans     # K means clustering library\n",
        "kmeans = KMeans(n_clusters=2, random_state=0) \n",
        "kmeans.fit(X)"
      ],
      "metadata": {
        "colab": {
          "base_uri": "https://localhost:8080/"
        },
        "id": "4Fu5jeFjIVvF",
        "outputId": "d2cfd741-bc28-45a6-8d5b-3c61e402c8eb"
      },
      "execution_count": null,
      "outputs": [
        {
          "output_type": "execute_result",
          "data": {
            "text/plain": [
              "KMeans(n_clusters=2, random_state=0)"
            ]
          },
          "metadata": {},
          "execution_count": 263
        }
      ]
    },
    {
      "cell_type": "markdown",
      "source": [
        "# K-Means model parameters study"
      ],
      "metadata": {
        "id": "rlQ30P-FM88W"
      }
    },
    {
      "cell_type": "code",
      "source": [
        "kmeans.cluster_centers_"
      ],
      "metadata": {
        "colab": {
          "base_uri": "https://localhost:8080/"
        },
        "id": "YOiLIAccJdNl",
        "outputId": "0fae439c-65f6-4b95-b62e-16baf368c557"
      },
      "execution_count": null,
      "outputs": [
        {
          "output_type": "execute_result",
          "data": {
            "text/plain": [
              "array([[0.53856273, 0.20414748],\n",
              "       [0.29005152, 0.28620942]])"
            ]
          },
          "metadata": {},
          "execution_count": 264
        }
      ]
    },
    {
      "cell_type": "code",
      "source": [
        "kmeans.inertia_"
      ],
      "metadata": {
        "colab": {
          "base_uri": "https://localhost:8080/"
        },
        "id": "mjq33TScNHcJ",
        "outputId": "d5bb357f-fa22-4be0-8798-4cbf5e870f47"
      },
      "execution_count": null,
      "outputs": [
        {
          "output_type": "execute_result",
          "data": {
            "text/plain": [
              "28.94486314909033"
            ]
          },
          "metadata": {},
          "execution_count": 265
        }
      ]
    },
    {
      "cell_type": "code",
      "source": [
        "labels = kmeans.labels_\n",
        "\n",
        "# check how many of the samples were correctly labeled\n",
        "correct_labels = sum(y == labels)\n",
        "\n",
        "print(\"Result: %d out of %d samples were correctly labeled.\" % (correct_labels, y.size))"
      ],
      "metadata": {
        "colab": {
          "base_uri": "https://localhost:8080/"
        },
        "id": "PYaG9R4hNK6o",
        "outputId": "bf501d29-b25b-483a-eef1-4c188d02d0f0"
      },
      "execution_count": null,
      "outputs": [
        {
          "output_type": "stream",
          "name": "stdout",
          "text": [
            "Result: 248 out of 1025 samples were correctly labeled.\n"
          ]
        }
      ]
    },
    {
      "cell_type": "code",
      "source": [
        "print('Accuracy score: {0:0.2f}'. format(correct_labels/float(y.size)))"
      ],
      "metadata": {
        "colab": {
          "base_uri": "https://localhost:8080/"
        },
        "id": "-blNp_kwNOQv",
        "outputId": "de4c6a29-9a72-4b59-f610-0abd53d127e3"
      },
      "execution_count": null,
      "outputs": [
        {
          "output_type": "stream",
          "name": "stdout",
          "text": [
            "Accuracy score: 0.24\n"
          ]
        }
      ]
    },
    {
      "cell_type": "markdown",
      "source": [
        "# Using Elbow Method"
      ],
      "metadata": {
        "id": "3GlCM0LUNUQA"
      }
    },
    {
      "cell_type": "code",
      "source": [
        "from sklearn.cluster import KMeans\n",
        "cs = []\n",
        "for i in range(1, 20):\n",
        "    kmeans = KMeans(n_clusters = i, init = 'k-means++', max_iter = 10000, n_init = 10, random_state = 0)\n",
        "    kmeans.fit(X)\n",
        "    cs.append(kmeans.inertia_)\n",
        "plt.plot(range(1, 20), cs)\n",
        "plt.title('The Elbow Method')\n",
        "plt.xlabel('Number of clusters')\n",
        "plt.ylabel('CS')\n",
        "plt.show()\n",
        "import warnings\n",
        "warnings.filterwarnings(\"ignore\")"
      ],
      "metadata": {
        "colab": {
          "base_uri": "https://localhost:8080/",
          "height": 295
        },
        "id": "wNvfbWNnNWRC",
        "outputId": "e87a6652-b3cf-4f36-e23f-ab8fb80962a0"
      },
      "execution_count": null,
      "outputs": [
        {
          "output_type": "display_data",
          "data": {
            "text/plain": [
              "<Figure size 432x288 with 1 Axes>"
            ],
            "image/png": "[encoded data removed]"
          },
          "metadata": {
            "needs_background": "light"
          }
        }
      ]
    },
    {
      "cell_type": "markdown",
      "source": [
        "# K-Means with different clusters"
      ],
      "metadata": {
        "id": "8mvscfjWOYUO"
      }
    },
    {
      "cell_type": "code",
      "source": [
        "for i in range(1,21):\n",
        "    kmeans = KMeans(n_clusters=i, random_state=1,max_iter = 100,verbose = 0,algorithm = \"full\")\n",
        "    kmeans.fit(X)\n",
        "    # check how many of the samples were correctly labeled\n",
        "    labels = kmeans.labels_\n",
        "    correct_labels = sum(y == labels)\n",
        "    print(i)\n",
        "    print(\"Result: %d out of %d samples were correctly labeled.\" % (correct_labels, y.size))\n",
        "    print('Accuracy score: {0:0.2f}'. format(correct_labels/float(y.size)))"
      ],
      "metadata": {
        "colab": {
          "base_uri": "https://localhost:8080/"
        },
        "id": "8fVuCf1iOeNo",
        "outputId": "63c35e9e-bcf3-4ecf-9609-653d3e6779c3"
      },
      "execution_count": null,
      "outputs": [
        {
          "output_type": "stream",
          "name": "stdout",
          "text": [
            "1\n",
            "Result: 499 out of 1025 samples were correctly labeled.\n",
            "Accuracy score: 0.49\n",
            "2\n",
            "Result: 801 out of 1025 samples were correctly labeled.\n",
            "Accuracy score: 0.78\n",
            "3\n",
            "Result: 228 out of 1025 samples were correctly labeled.\n",
            "Accuracy score: 0.22\n",
            "4\n",
            "Result: 199 out of 1025 samples were correctly labeled.\n",
            "Accuracy score: 0.19\n",
            "5\n",
            "Result: 101 out of 1025 samples were correctly labeled.\n",
            "Accuracy score: 0.10\n",
            "6\n",
            "Result: 94 out of 1025 samples were correctly labeled.\n",
            "Accuracy score: 0.09\n",
            "7\n",
            "Result: 54 out of 1025 samples were correctly labeled.\n",
            "Accuracy score: 0.05\n",
            "8\n",
            "Result: 68 out of 1025 samples were correctly labeled.\n",
            "Accuracy score: 0.07\n",
            "9\n",
            "Result: 221 out of 1025 samples were correctly labeled.\n",
            "Accuracy score: 0.22\n",
            "10\n",
            "Result: 324 out of 1025 samples were correctly labeled.\n",
            "Accuracy score: 0.32\n",
            "11\n",
            "Result: 320 out of 1025 samples were correctly labeled.\n",
            "Accuracy score: 0.31\n",
            "12\n",
            "Result: 235 out of 1025 samples were correctly labeled.\n",
            "Accuracy score: 0.23\n",
            "13\n",
            "Result: 46 out of 1025 samples were correctly labeled.\n",
            "Accuracy score: 0.04\n",
            "14\n",
            "Result: 231 out of 1025 samples were correctly labeled.\n",
            "Accuracy score: 0.23\n",
            "15\n",
            "Result: 234 out of 1025 samples were correctly labeled.\n",
            "Accuracy score: 0.23\n",
            "16\n",
            "Result: 182 out of 1025 samples were correctly labeled.\n",
            "Accuracy score: 0.18\n",
            "17\n",
            "Result: 40 out of 1025 samples were correctly labeled.\n",
            "Accuracy score: 0.04\n",
            "18\n",
            "Result: 166 out of 1025 samples were correctly labeled.\n",
            "Accuracy score: 0.16\n",
            "19\n",
            "Result: 24 out of 1025 samples were correctly labeled.\n",
            "Accuracy score: 0.02\n",
            "20\n",
            "Result: 163 out of 1025 samples were correctly labeled.\n",
            "Accuracy score: 0.16\n"
          ]
        }
      ]
    }
  ]
}